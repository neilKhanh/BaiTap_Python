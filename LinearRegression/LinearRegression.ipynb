{
 "cells": [
  {
   "cell_type": "code",
   "execution_count": 23,
   "id": "b83bfedd",
   "metadata": {},
   "outputs": [],
   "source": [
    "# import libraries\n",
    "import numpy as np\n",
    "import pandas as pd\n",
    "from sklearn.linear_model import LinearRegression\n",
    "import matplotlib.pyplot as plt"
   ]
  },
  {
   "cell_type": "code",
   "execution_count": 24,
   "id": "c3bae0c0",
   "metadata": {},
   "outputs": [],
   "source": [
    "def compute_MSE(y_true, y_pred, N):\n",
    "    return (1/N)*(np.sum(np.square(y_pred-y_true)))"
   ]
  },
  {
   "cell_type": "code",
   "execution_count": 53,
   "id": "be09b443",
   "metadata": {},
   "outputs": [
    {
     "data": {
      "text/plain": [
       "21.400000000000002"
      ]
     },
     "execution_count": 53,
     "metadata": {},
     "output_type": "execute_result"
    }
   ],
   "source": [
    "# Bai 1\n",
    "x = np.array([1,2,3,4,5])\n",
    "y_true = np.array([1,3,2,4,4])\n",
    "# a\n",
    "y_pred = 2*x + 1\n",
    "MSE = compute_MSE(y_true, y_pred, len(y_true))\n",
    "MSE"
   ]
  },
  {
   "cell_type": "code",
   "execution_count": 54,
   "id": "30341b13",
   "metadata": {},
   "outputs": [
    {
     "name": "stdout",
     "output_type": "stream",
     "text": [
      "a=1\n",
      "b=2\n"
     ]
    },
    {
     "data": {
      "text/plain": [
       "5.4"
      ]
     },
     "execution_count": 54,
     "metadata": {},
     "output_type": "execute_result"
    }
   ],
   "source": [
    "# b\n",
    "a = int(input(\"a=\"))\n",
    "b = int(input(\"b=\"))\n",
    "y_pred = a*x + b\n",
    "MSE = compute_MSE(y_true, y_pred, len(y_true))\n",
    "MSE"
   ]
  },
  {
   "cell_type": "code",
   "execution_count": 69,
   "id": "1e49f842",
   "metadata": {},
   "outputs": [
    {
     "name": "stdout",
     "output_type": "stream",
     "text": [
      "score = 0.7205882352941176\n",
      "MSE = 0.38\n"
     ]
    }
   ],
   "source": [
    "# c\n",
    "x = x.reshape(-1,1)\n",
    "y = y_true.reshape(-1,1)\n",
    "reg = LinearRegression().fit(x, y)\n",
    "print(\"score =\",reg.score(x, y_true))\n",
    "MSE = compute_MSE(y, reg.predict(x), len(y))\n",
    "print(\"MSE =\",MSE)"
   ]
  },
  {
   "cell_type": "code",
   "execution_count": 39,
   "id": "b5560727",
   "metadata": {},
   "outputs": [
    {
     "data": {
      "text/plain": [
       "<matplotlib.collections.PathCollection at 0x1b9c58c44c0>"
      ]
     },
     "execution_count": 39,
     "metadata": {},
     "output_type": "execute_result"
    },
    {
     "data": {
      "image/png": "[encoded data removed]",
      "text/plain": [
       "<Figure size 432x288 with 1 Axes>"
      ]
     },
     "metadata": {
      "needs_background": "light"
     },
     "output_type": "display_data"
    }
   ],
   "source": [
    "# Bai 2\n",
    "# a\n",
    "df = pd.read_csv(\"data/data_linear.csv\")\n",
    "df.columns = ['Area', 'Price']\n",
    "\n",
    "plt.scatter(df['Area'], df['Price'])"
   ]
  },
  {
   "cell_type": "code",
   "execution_count": 38,
   "id": "dbf2e835",
   "metadata": {},
   "outputs": [
    {
     "name": "stdout",
     "output_type": "stream",
     "text": [
      "Score= 0.9975640411137482\n",
      "He so: [[15.2110908]]\n",
      "MSE= 928658.1763034967\n"
     ]
    }
   ],
   "source": [
    "# b\n",
    "area = np.array(list(df['Area'])).reshape(-1,1)\n",
    "price = np.array(list(df['Price'])).reshape(-1,1)\n",
    "reg = LinearRegression().fit(area, price)\n",
    "print(\"Score=\",reg.score(area, price))\n",
    "print(\"He so:\", reg.coef_)\n",
    "print(\"MSE=\", compute_MSE(area, price, len(area)))"
   ]
  },
  {
   "cell_type": "code",
   "execution_count": 43,
   "id": "d5fa1fd3",
   "metadata": {},
   "outputs": [
    {
     "name": "stdout",
     "output_type": "stream",
     "text": [
      "Gia nha du doan la:\n"
     ]
    },
    {
     "data": {
      "text/plain": [
       "array([[ 753.49027134],\n",
       "       [1818.26662732],\n",
       "       [ 753.49027134]])"
      ]
     },
     "execution_count": 43,
     "metadata": {},
     "output_type": "execute_result"
    }
   ],
   "source": [
    "# c\n",
    "print(\"Gia nha du doan la:\")\n",
    "reg.predict(np.array([50, 120, 50]).reshape(-1,1))"
   ]
  },
  {
   "cell_type": "code",
   "execution_count": 45,
   "id": "cc49d433",
   "metadata": {},
   "outputs": [
    {
     "data": {
      "text/plain": [
       "[<matplotlib.lines.Line2D at 0x1b9c58aedc0>]"
      ]
     },
     "execution_count": 45,
     "metadata": {},
     "output_type": "execute_result"
    },
    {
     "data": {
      "image/png": "[encoded data removed]",
      "text/plain": [
       "<Figure size 432x288 with 1 Axes>"
      ]
     },
     "metadata": {
      "needs_background": "light"
     },
     "output_type": "display_data"
    }
   ],
   "source": [
    "# d\n",
    "plt.scatter(df['Area'], df['Price'])\n",
    "plt.plot(df['Area'], reg.predict(area))"
   ]
  },
  {
   "cell_type": "code",
   "execution_count": 26,
   "id": "20087618",
   "metadata": {},
   "outputs": [
    {
     "name": "stdout",
     "output_type": "stream",
     "text": [
      "[[30.00003629]]\n",
      "Score= 0.7211363745231721\n",
      "MSE= 528316.944612055\n"
     ]
    },
    {
     "data": {
      "image/png": "[encoded data removed]",
      "text/plain": [
       "<Figure size 432x288 with 1 Axes>"
      ]
     },
     "metadata": {
      "needs_background": "light"
     },
     "output_type": "display_data"
    }
   ],
   "source": [
    "# Bai 3\n",
    "# a & b\n",
    "df = pd.read_csv(\"data/data_square.csv\")\n",
    "df.columns = ['Area', 'Price']\n",
    "area = np.array(list(df['Area'])).reshape(-1,1)\n",
    "price = np.array(list(df['Price'])).reshape(-1,1)\n",
    "reg = LinearRegression().fit(area, price)\n",
    "plt.scatter(df['Area'], df['Price'])\n",
    "plt.plot(df['Area'], reg.predict(area))\n",
    "print(reg.coef_)\n",
    "print(\"Score=\", reg.score(area, price))\n",
    "print(\"MSE=\", compute_MSE(area, price, len(area)))\n"
   ]
  },
  {
   "cell_type": "code",
   "execution_count": 27,
   "id": "62f7f61d",
   "metadata": {},
   "outputs": [
    {
     "data": {
      "text/plain": [
       "[<matplotlib.lines.Line2D at 0x29a0f8a6730>,\n",
       " <matplotlib.lines.Line2D at 0x29a0f8a6790>]"
      ]
     },
     "execution_count": 27,
     "metadata": {},
     "output_type": "execute_result"
    },
    {
     "data": {
      "image/png": "[encoded data removed]",
      "text/plain": [
       "<Figure size 432x288 with 1 Axes>"
      ]
     },
     "metadata": {
      "needs_background": "light"
     },
     "output_type": "display_data"
    }
   ],
   "source": [
    "X = np.append(area, area**2, axis=1)\n",
    "poly_reg = LinearRegression().fit(X, price)\n",
    "plt.scatter(df['Area'], df['Price'])\n",
    "plt.plot(X, poly_reg.predict(X))"
   ]
  },
  {
   "cell_type": "code",
   "execution_count": null,
   "id": "bec5d33b",
   "metadata": {},
   "outputs": [],
   "source": []
  }
 ],
 "metadata": {
  "kernelspec": {
   "display_name": "Python 3 (ipykernel)",
   "language": "python",
   "name": "python3"
  },
  "language_info": {
   "codemirror_mode": {
    "name": "ipython",
    "version": 3
   },
   "file_extension": ".py",
   "mimetype": "text/x-python",
   "name": "python",
   "nbconvert_exporter": "python",
   "pygments_lexer": "ipython3",
   "version": "3.9.12"
  }
 },
 "nbformat": 4,
 "nbformat_minor": 5
}
