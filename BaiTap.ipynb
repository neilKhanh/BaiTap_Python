{
 "cells": [
  {
   "cell_type": "code",
   "execution_count": 1,
   "id": "4c4044d6",
   "metadata": {},
   "outputs": [
    {
     "name": "stdout",
     "output_type": "stream",
     "text": [
      "['elephent', 'ant', 'dog', 'cat']\n",
      "['elephent', 'dolphin', 'ant', 'dog', 'cat']\n",
      "['elephent', 'dolphin', 'dog', 'cat']\n",
      "['elephent', 'dolphin', 'dog']\n"
     ]
    }
   ],
   "source": [
    "# Bai 1\n",
    "animals = ['elephent', 'ant', 'dog']\n",
    "\n",
    "# a\n",
    "animals.append('cat')\n",
    "print(animals)\n",
    "\n",
    "# b\n",
    "animals.insert(1, 'dolphin')\n",
    "print(animals)\n",
    "\n",
    "# c\n",
    "animals.remove('ant')\n",
    "print(animals)\n",
    "\n",
    "# d\n",
    "animals.pop()\n",
    "print(animals)\n"
   ]
  },
  {
   "cell_type": "code",
   "execution_count": 2,
   "id": "a9d7a9c0",
   "metadata": {},
   "outputs": [
    {
     "name": "stdout",
     "output_type": "stream",
     "text": [
      "A Y E\n",
      "nh eu m\n",
      "['Anh', 'Yeu', 'Em']\n"
     ]
    }
   ],
   "source": [
    "# Bai 2\n",
    "list1 = [i for i in input().split(' ')]\n",
    "list2 = [i for i in input().split(' ')]\n",
    "ans = []\n",
    "\n",
    "for i in range(len(list1)):\n",
    "    ans.append(list1[i] + list2[i])\n",
    "\n",
    "print(ans)"
   ]
  },
  {
   "cell_type": "code",
   "execution_count": 3,
   "id": "33e1b2d1",
   "metadata": {},
   "outputs": [
    {
     "name": "stdout",
     "output_type": "stream",
     "text": [
      "['Mike', 'Emma', 'Kelly', 'Brad']\n",
      "['Mike', 'Emma', 'Kelly', 'Brad']\n"
     ]
    }
   ],
   "source": [
    "# Bai 3\n",
    "input = [\"Mike\", \"\", \"\",\"\", \"\", \"Emma\", \"\", \"Kelly\", \"\", \"\", \"Brad\"]\n",
    "\n",
    "# for\n",
    "input_copy = input.copy()\n",
    "for i in input:\n",
    "    if i == \"\":\n",
    "        input_copy.remove(\"\")\n",
    "print(input_copy)\n",
    "\n",
    "# list comprehend\n",
    "ans = [i for i in input if i != \"\"]\n",
    "print(ans)"
   ]
  },
  {
   "cell_type": "code",
   "execution_count": 4,
   "id": "8f51c02c",
   "metadata": {},
   "outputs": [
    {
     "name": "stdout",
     "output_type": "stream",
     "text": [
      "True\n",
      "False\n"
     ]
    }
   ],
   "source": [
    "# Bai 4\n",
    "def equal_check(tup):\n",
    "    for i in tup:\n",
    "        if i - tup[0] != 0:\n",
    "            return False\n",
    "    return True\n",
    "\n",
    "tup1 = (10, 10, 10, 10)\n",
    "print(equal_check(tup1))\n",
    "\n",
    "tup2 = (10, 10, 2)\n",
    "print(equal_check(tup2))"
   ]
  },
  {
   "cell_type": "code",
   "execution_count": 5,
   "id": "99701e72",
   "metadata": {},
   "outputs": [
    {
     "name": "stdout",
     "output_type": "stream",
     "text": [
      "{70, 40, 10, 50, 20, 60, 30}\n",
      "{40, 50, 30}\n",
      "{10, 20}\n"
     ]
    }
   ],
   "source": [
    "# Bai 5\n",
    "set1 = {10, 20, 30, 40, 50}\n",
    "set2 = {30, 40, 50, 60, 70}\n",
    "\n",
    "# a\n",
    "seta = set1.union(set2)\n",
    "print(seta)\n",
    "\n",
    "# b\n",
    "setb = set1.intersection(set2)\n",
    "print(setb)\n",
    "\n",
    "# c\n",
    "setc = {i for i in set1 if i not in set2}\n",
    "print(setc)"
   ]
  },
  {
   "cell_type": "code",
   "execution_count": 6,
   "id": "f8056c8b",
   "metadata": {},
   "outputs": [
    {
     "name": "stdout",
     "output_type": "stream",
     "text": [
      "{'name': 'Tuan', 'age': 18, 'salary': 8000, 'city': 'Ha Noi', 'job': 'IT'}\n",
      "8000\n",
      "{'name': 'Tuan', 'salary': 8000, 'city': 'Ha Noi', 'job': 'IT'}\n",
      "{'name': 'Tuan', 'salary': 10000, 'city': 'Ha Noi', 'job': 'IT'}\n"
     ]
    }
   ],
   "source": [
    "# Bai 6\n",
    "information = {\n",
    "\"name\": \"Tuan\",\n",
    "\"age\":18,\n",
    "\"salary\": 8000,\n",
    "\"city\": \"Ha Noi\"\n",
    "}\n",
    "\n",
    "# a\n",
    "information[\"job\"] = \"IT\"\n",
    "print(information)\n",
    "\n",
    "# b\n",
    "print(information[\"salary\"])\n",
    "\n",
    "# c\n",
    "del information[\"age\"]\n",
    "print(information)\n",
    "\n",
    "# d\n",
    "information[\"salary\"] = 10000\n",
    "print(information)"
   ]
  },
  {
   "cell_type": "code",
   "execution_count": 7,
   "id": "3b509bb9",
   "metadata": {},
   "outputs": [
    {
     "name": "stdout",
     "output_type": "stream",
     "text": [
      "{'Ten': 10, 'Twenty': 20, 'Thirty': 30}\n"
     ]
    }
   ],
   "source": [
    "# Bai 7\n",
    "keys = ['Ten', 'Twenty', 'Thirty']\n",
    "values = [10, 20, 30]\n",
    "dict = {}\n",
    "\n",
    "for i in range(len(keys)):\n",
    "    dict[keys[i]] = values[i]\n",
    "\n",
    "print(dict)"
   ]
  },
  {
   "cell_type": "code",
   "execution_count": 7,
   "id": "1ec7833c",
   "metadata": {},
   "outputs": [
    {
     "name": "stdout",
     "output_type": "stream",
     "text": [
      "1 2 3 4 5 6 7 6 5 4 3 2 1 2 3 2 1 1 2 3\n",
      "{'1': 4, '2': 5, '3': 4, '4': 2, '5': 2, '6': 2, '7': 1}\n",
      "Nhieu nhat: 2\n",
      "It nhat: 7\n",
      "2.857142857142857\n"
     ]
    }
   ],
   "source": [
    "# Bai 8\n",
    "from numpy import average\n",
    "\n",
    "\n",
    "num = [i for i in input().split(\" \")]\n",
    "dict = {}\n",
    "\n",
    "# a\n",
    "for i in num:\n",
    "    if i not in dict.keys():\n",
    "        dict[i] = 0\n",
    "        for j in num:\n",
    "            if j == i:\n",
    "                dict[i] += 1\n",
    "print(dict)\n",
    "\n",
    "# b\n",
    "values = list(dict.values())\n",
    "mx = []\n",
    "mn = []\n",
    "for i in dict:\n",
    "    if dict[i] == min(values):\n",
    "        mn.append(i)\n",
    "    elif dict[i] == max(values):\n",
    "        mx.append(i)\n",
    "        \n",
    "mx = ', '.join(mx)\n",
    "mn = ', '.join(mn)\n",
    "\n",
    "print(\"Nhieu nhat:\", mx)\n",
    "print(\"It nhat:\", mn)\n",
    "\n",
    "# c\n",
    "print(average(values))"
   ]
  },
  {
   "cell_type": "code",
   "execution_count": 3,
   "id": "31ac5b8e",
   "metadata": {},
   "outputs": [
    {
     "name": "stdout",
     "output_type": "stream",
     "text": [
      "meomeo\n",
      "meomeo: 10\n",
      "Enter student's name:Khanh\n",
      "Enter Khanh's score:100\n",
      "{'Hoang': 8, 'Giang beo': 7, 'Giang nghien': 9, 'meomeo': 10, 'Khanh': 100}\n",
      "Highes score(s): Khanh 100\n",
      "Lowest score(s): Giang beo 7\n"
     ]
    }
   ],
   "source": [
    "# Bai 9\n",
    "scores = {'Hoang': 8, 'Giang beo': 7, 'Giang nghien': 9, 'meomeo': 10}\n",
    "\n",
    "# a\n",
    "name_input = input()\n",
    "try:\n",
    "    print(f\"{name_input}: {scores[name_input]}\")\n",
    "except:\n",
    "    print(\"Student is not available!\")\n",
    "\n",
    "# b\n",
    "stu_name = input(\"Enter student's name:\")\n",
    "stu_score = int(input(f\"Enter {stu_name}'s score:\"))\n",
    "scores[stu_name] = stu_score\n",
    "print(scores)\n",
    "\n",
    "# c\n",
    "values = list(scores.values())\n",
    "mx = []\n",
    "mn = []\n",
    "for i in scores:\n",
    "    if scores[i] == min(values):\n",
    "        mn.append(i)\n",
    "    elif scores[i] == max(values):\n",
    "        mx.append(i)\n",
    "mx = ','.join(mx)\n",
    "mn = ','.join(mn)\n",
    "\n",
    "print(\"Highes score(s):\", mx, max(values))\n",
    "print(\"Lowest score(s):\", mn, min(values))"
   ]
  },
  {
   "cell_type": "code",
   "execution_count": 2,
   "id": "9c40145f",
   "metadata": {},
   "outputs": [
    {
     "name": "stdout",
     "output_type": "stream",
     "text": [
      "Enter the name of product: k\n",
      "Enter the amount of k:100\n",
      "Enter the name of product: c\n",
      "Enter the amount of c:200\n",
      "Enter the name of product: b\n",
      "Enter the amount of b:300\n",
      "Enter the name of product: k\n",
      "Enter the amount of k:300\n",
      "Enter the name of product: end\n",
      "{'k': 400, 'c': 200, 'b': 300}\n",
      "You want to check:c\n",
      "The amount of c is 200\n",
      "k have/has the largest quantity: 400\n"
     ]
    }
   ],
   "source": [
    "# Bai 10\n",
    "def get_input(dict):\n",
    "    while True:\n",
    "        prod = input(\"Enter the name of product: \")\n",
    "        if prod == 'end':\n",
    "            break\n",
    "        amount = int(input(f\"Enter the amount of {prod}:\"))\n",
    "        if prod not in dict.keys():\n",
    "            dict[prod] = amount\n",
    "        elif prod in dict.keys():\n",
    "            dict[prod] += amount\n",
    "\n",
    "dict = {}\n",
    "get_input(dict)\n",
    "print(dict)\n",
    "\n",
    "# a\n",
    "prod = input(\"You want to check:\")\n",
    "try:\n",
    "    print(f\"The amount of {prod} is {dict[prod]}\")\n",
    "except:\n",
    "    print(\"This product is not availabe!\")\n",
    "\n",
    "# b\n",
    "values = list(dict.values())\n",
    "mx = []\n",
    "for i in dict:\n",
    "    if dict[i] == max(values):\n",
    "        mx.append(i)\n",
    "mx = \",\".join(mx)\n",
    "print(f\"{mx} have/has the largest quantity: {max(values)}\")\n"
   ]
  },
  {
   "cell_type": "code",
   "execution_count": 5,
   "id": "65f14b19",
   "metadata": {},
   "outputs": [
    {
     "name": "stdout",
     "output_type": "stream",
     "text": [
      "Enter your string:5 Ae treN MoT chIe@ s# t^ng\n",
      "upper case: 5\n",
      "lower case: 12\n",
      "digit: 1\n",
      "special char: 9\n"
     ]
    }
   ],
   "source": [
    "# Bai 11\n",
    "input = input(\"Enter your string:\")\n",
    "\n",
    "dict = {'upper case':0, 'lower case':0, 'digit':0, 'special char':0}\n",
    "\n",
    "for i in input:\n",
    "    if i.isupper():\n",
    "        dict['upper case'] += 1\n",
    "    elif i.islower():\n",
    "        dict['lower case'] += 1\n",
    "    elif i.isdigit():\n",
    "        dict['digit'] += 1\n",
    "    else:\n",
    "        dict['special char'] += 1\n",
    "\n",
    "for i in dict:\n",
    "    print(f\"{i}: {dict[i]}\")"
   ]
  },
  {
   "cell_type": "code",
   "execution_count": 1,
   "id": "5c35c761",
   "metadata": {},
   "outputs": [
    {
     "name": "stdout",
     "output_type": "stream",
     "text": [
      "Enter your string:Duong Quoc Khanh\n",
      "{'D': 1, 'u': 2, 'o': 2, 'n': 2, 'g': 1, ' ': 2, 'Q': 1, 'c': 1, 'K': 1, 'h': 2, 'a': 1}\n"
     ]
    }
   ],
   "source": [
    "# Bai 12\n",
    "input = input(\"Enter your string:\")\n",
    "dict = {}\n",
    "\n",
    "for i in input:\n",
    "    if i not in dict.keys():\n",
    "        dict[i] = 0\n",
    "        for j in input:\n",
    "            if j == i:\n",
    "                dict[i] += 1\n",
    "print(dict)"
   ]
  },
  {
   "cell_type": "code",
   "execution_count": 1,
   "id": "c649655f",
   "metadata": {},
   "outputs": [
    {
     "name": "stdout",
     "output_type": "stream",
     "text": [
      "Khi khai khong kham\n",
      "Khi $hai $hong $ham\n"
     ]
    }
   ],
   "source": [
    "# Bai 13\n",
    "x = input()\n",
    "\n",
    "x = x[0] + x[1:].lower().replace(x[0].lower(), '$')\n",
    "\n",
    "print(x)"
   ]
  },
  {
   "cell_type": "code",
   "execution_count": 3,
   "id": "88555bb2",
   "metadata": {},
   "outputs": [
    {
     "name": "stdout",
     "output_type": "stream",
     "text": [
      "Enter a verb:Ajadhie\n",
      "Ajadhying\n"
     ]
    }
   ],
   "source": [
    "# Bai 14\n",
    "conso = 'ueoai'\n",
    "x = input(\"Enter a verb:\")\n",
    "\n",
    "if x[-2] + x[-1] == 'ie':\n",
    "    x = x[0:-2] + 'ying'\n",
    "elif x[-1] == 'e':\n",
    "    x = x[0:-1] + 'ing'\n",
    "elif x[-1] in conso:\n",
    "    x = x + x[-1] + 'ing'\n",
    "else:\n",
    "    x = x + 'ing'\n",
    "\n",
    "print(x)"
   ]
  },
  {
   "cell_type": "code",
   "execution_count": 8,
   "id": "d89c586d",
   "metadata": {},
   "outputs": [
    {
     "name": "stdout",
     "output_type": "stream",
     "text": [
      "Input:Khanh Khuc Khich Thich Xuc Xich\n",
      "You want to find:uc\n",
      "[8, 24]\n"
     ]
    }
   ],
   "source": [
    "# Bai 15\n",
    "def find_all(x, sub):\n",
    "    pos = []\n",
    "    for h in range(len(x)):\n",
    "        t = h + len(sub)\n",
    "        if x[h: t] == sub:\n",
    "            pos.append(h)\n",
    "    return pos\n",
    "\n",
    "x = input('Input:')\n",
    "sub = input(\"You want to find:\")\n",
    "print(find_all(x, sub))"
   ]
  },
  {
   "cell_type": "code",
   "execution_count": 10,
   "id": "089426e9",
   "metadata": {},
   "outputs": [
    {
     "name": "stdout",
     "output_type": "stream",
     "text": [
      "Input:Khanh Khucucuc Khich Thich Xuc Xich\n",
      "You want to change:uc\n",
      "Into:ahihi\n",
      "In position:2\n",
      "After changing: Khanh Khucucahihi Khich Thich Xuc Xich\n"
     ]
    }
   ],
   "source": [
    "# Bai 16\n",
    "def replace_in_pos(x, sub, resub, pos):\n",
    "    pos_sub = -1\n",
    "    for h in range(len(x)):\n",
    "        t = h + len(sub)\n",
    "        if x[h: t] == sub:\n",
    "            pos_sub += 1\n",
    "            if pos_sub == pos:\n",
    "                x = x[:h] + resub + x[t:]\n",
    "                return x\n",
    "\n",
    "\n",
    "x = input(\"Input:\")\n",
    "sub = input(\"You want to change:\")\n",
    "resub = input(\"Into:\")\n",
    "pos = int(input(\"In position:\"))\n",
    "\n",
    "\n",
    "print(\"After changing:\", replace_in_pos(x, sub, resub, pos))"
   ]
  },
  {
   "cell_type": "code",
   "execution_count": 5,
   "id": "59760518",
   "metadata": {},
   "outputs": [
    {
     "name": "stdout",
     "output_type": "stream",
     "text": [
      "red,white,black,red,green,black\n",
      "black,green,red,white\n"
     ]
    }
   ],
   "source": [
    "# Bai 17\n",
    "x = [i for i in input().split(\",\")]\n",
    "x = set(x)\n",
    "x = list(x)\n",
    "x.sort()\n",
    "x = \",\".join(x)\n",
    "print(x)"
   ]
  },
  {
   "cell_type": "code",
   "execution_count": 7,
   "id": "7852f0df",
   "metadata": {},
   "outputs": [
    {
     "name": "stdout",
     "output_type": "stream",
     "text": [
      "Nguyen ngOc HuY hOANG\n",
      "Nguyen Ngoc Huy Hoang\n"
     ]
    }
   ],
   "source": [
    "# Bai 18\n",
    "x = input()\n",
    "lst = x.lower().split()\n",
    "for i in range(len(lst)):\n",
    "    lst[i] = lst[i].capitalize()\n",
    "x = ' '.join(lst)\n",
    "print(x)"
   ]
  },
  {
   "cell_type": "code",
   "execution_count": 9,
   "id": "33eb74ef",
   "metadata": {},
   "outputs": [
    {
     "name": "stdout",
     "output_type": "stream",
     "text": [
      "['Interface ethernet0 is up', 'Interface ethernet1 is down', 'Interface serial0 is down', 'Interface serial1 is up ']\n",
      "Count Up: 2\n",
      "Interface Up: ['ethernet0', 'serial1']\n"
     ]
    }
   ],
   "source": [
    "# Bai 20\n",
    "x = '''Inteface ethernet0 is up\n",
    "Inteface ethernet1 is down\n",
    "Inteface serial0 is down\n",
    "Inteface serial1 is up '''\n",
    "\n",
    "# a\n",
    "lst = x.split(\"\\n\")\n",
    "for i in range(len(lst)):\n",
    "    lst[i] = lst[i].replace('Inteface', 'Interface')\n",
    "print(lst)\n",
    "\n",
    "# b\n",
    "count_up = 0\n",
    "inter_up = []\n",
    "for i in range(len(lst)):\n",
    "    char_lst = lst[i].split()\n",
    "    for j in range(len(char_lst)):\n",
    "        if char_lst[j] == 'up':\n",
    "            count_up += 1\n",
    "            inter_up.append(char_lst[1])\n",
    "print(\"Count Up:\",count_up)\n",
    "\n",
    "# c\n",
    "print(\"Interface Up:\", inter_up)"
   ]
  },
  {
   "cell_type": "code",
   "execution_count": 48,
   "id": "84edc368",
   "metadata": {},
   "outputs": [
    {
     "name": "stdout",
     "output_type": "stream",
     "text": [
      "[7 4 2 1 1]\n"
     ]
    },
    {
     "data": {
      "text/plain": [
       "array([-1,  4,  2, -1, -1])"
      ]
     },
     "execution_count": 48,
     "metadata": {},
     "output_type": "execute_result"
    }
   ],
   "source": [
    "# Bai 21\n",
    "import numpy as np\n",
    "\n",
    "x = np.random.randint(9, size=5, dtype=int)\n",
    "print(x)\n",
    "x[x%2==1] = -1\n",
    "x"
   ]
  },
  {
   "cell_type": "code",
   "execution_count": 60,
   "id": "829d3df1",
   "metadata": {},
   "outputs": [
    {
     "name": "stdout",
     "output_type": "stream",
     "text": [
      "A=\n",
      " [[4 1]\n",
      " [5 4]\n",
      " [1 2]]\n",
      "B=\n",
      " [[5 3]\n",
      " [2 4]\n",
      " [2 3]]\n",
      "A-B=\n",
      " [[-1 -2]\n",
      " [ 3  0]\n",
      " [-1 -1]]\n",
      "A+B=\n",
      " [[9 4]\n",
      " [7 8]\n",
      " [3 5]]\n",
      "A.*B=\n",
      " [[20  3]\n",
      " [10 16]\n",
      " [ 2  6]]\n",
      "A/B=\n",
      " [[0.8        0.33333333]\n",
      " [2.5        1.        ]\n",
      " [0.5        0.66666667]]\n",
      "A*B.T=\n",
      " [[23 12 11]\n",
      " [37 26 22]\n",
      " [11 10  8]]\n"
     ]
    }
   ],
   "source": [
    "# Bai 22\n",
    "A = np.random.randint(1, 6, size=(3,2), dtype=int)\n",
    "print(\"A=\\n\",A)\n",
    "B = np.random.randint(1, 6, size=(3,2), dtype=int)\n",
    "print(\"B=\\n\",B)\n",
    "print(\"A-B=\\n\",A-B)\n",
    "print(\"A+B=\\n\",A+B)\n",
    "print(\"A.*B=\\n\",np.multiply(A, B))\n",
    "print(\"A/B=\\n\", A/B)\n",
    "print(\"A*B.T=\\n\",np.dot(A, np.transpose(B)))"
   ]
  },
  {
   "cell_type": "code",
   "execution_count": 72,
   "id": "0c1bcb9a",
   "metadata": {},
   "outputs": [
    {
     "name": "stdout",
     "output_type": "stream",
     "text": [
      "[[2 8 3 3]\n",
      " [4 8 9 7]\n",
      " [9 6 8 6]]\n",
      "In row:\n",
      " [[16]\n",
      " [28]\n",
      " [29]]\n",
      "In col:\n",
      " [[15 22 20 16]]\n"
     ]
    },
    {
     "data": {
      "text/plain": [
       "array([[3, 3],\n",
       "       [9, 7]])"
      ]
     },
     "execution_count": 72,
     "metadata": {},
     "output_type": "execute_result"
    }
   ],
   "source": [
    "# Bai 23\n",
    "A = np.random.randint(1, 10, size=(3,4), dtype=int)\n",
    "print(A)\n",
    "print(\"In row:\\n\",np.sum(A, axis=1, keepdims=True))\n",
    "print(\"In col:\\n\",np.sum(A, axis=0, keepdims=True))\n",
    "A[0:2,2:4]"
   ]
  },
  {
   "cell_type": "code",
   "execution_count": 78,
   "id": "55760590",
   "metadata": {},
   "outputs": [
    {
     "name": "stdout",
     "output_type": "stream",
     "text": [
      "[1 5 0 0 0 5 4 1 2 0]\n"
     ]
    },
    {
     "data": {
      "text/plain": [
       "array([[1, 5],\n",
       "       [0, 0],\n",
       "       [0, 5],\n",
       "       [4, 1],\n",
       "       [2, 0]])"
      ]
     },
     "execution_count": 78,
     "metadata": {},
     "output_type": "execute_result"
    }
   ],
   "source": [
    "# Bai 24\n",
    "A = np.random.randint(10, size=10, dtype=int)\n",
    "print(A)\n",
    "A.reshape((5,2))"
   ]
  },
  {
   "cell_type": "code",
   "execution_count": 109,
   "id": "90a1b2e0",
   "metadata": {},
   "outputs": [
    {
     "name": "stdout",
     "output_type": "stream",
     "text": [
      "So luong san pham: 80\n",
      "San pham co gia lon hon 50000:\n",
      "Áo gió, Giày, Quần jean, Áo len\n",
      "San pham doanh thu lon hon 300000:\n",
      "Quần thun, Áo gió, Tất, Áo len\n"
     ]
    }
   ],
   "source": [
    "# Bai 25\n",
    "import numpy as np\n",
    "\n",
    "dataset = np.array([\n",
    "['Quần thun', 10, 50000],\n",
    "['Áo gió', 5, 90000],\n",
    "['Tất', 50, 8000],\n",
    "['Giày', 1, 200000],\n",
    "['Mũ', 1, 30000],\n",
    "['Quần jean', 3, 100000],\n",
    "['Áo len', 10, 100000],\n",
    "])\n",
    "int_data = dataset[:, 1:3].astype(int)\n",
    "print(\"So luong san pham:\", np.sum(int_data[:, 0]))\n",
    "\n",
    "print(\"San pham co gia lon hon 50000:\")\n",
    "for i in range(len(dataset)):\n",
    "    if i == len(dataset)-1:\n",
    "        print(dataset[i][0], end='\\n')\n",
    "        break\n",
    "    if int_data[i][1] > 50000:\n",
    "        print(dataset[i][0], end=', ')\n",
    "\n",
    "print(\"San pham doanh thu lon hon 300000:\")\n",
    "for i in range(len(dataset)):\n",
    "    if i == len(dataset)-1:\n",
    "        print(dataset[i][0], end='\\n')\n",
    "        break\n",
    "    if int_data[i][1]*int_data[i][0] > 300000:\n",
    "        print(dataset[i][0], end=', ')"
   ]
  },
  {
   "cell_type": "code",
   "execution_count": 13,
   "id": "7ac4de20",
   "metadata": {},
   "outputs": [
    {
     "name": "stdout",
     "output_type": "stream",
     "text": [
      "[ 1  2  3  4  5  6  7  8  9 10 11 12]\n",
      "[81441.22241474 90600.51919423 54724.29424045 40445.53800976\n",
      " 29955.20812248 77158.81646798 11323.02545975 70681.10198552\n",
      " 41491.8557475   7999.68871226 94471.98675149 54475.70753251]\n"
     ]
    },
    {
     "data": {
      "text/plain": [
       "Text(0, 0.5, 'Profit')"
      ]
     },
     "execution_count": 13,
     "metadata": {},
     "output_type": "execute_result"
    },
    {
     "data": {
      "image/png": "[encoded data removed]",
      "text/plain": [
       "<Figure size 720x360 with 1 Axes>"
      ]
     },
     "metadata": {
      "needs_background": "light"
     },
     "output_type": "display_data"
    }
   ],
   "source": [
    "# Bai 26\n",
    "import matplotlib.pyplot as plt\n",
    "import numpy as np\n",
    "\n",
    "months = np.array([1,2,3,4,5,6,7,8,9,10,11,12])\n",
    "prof = np.random.uniform(1000, 100000, size=12)\n",
    "print(months)\n",
    "print(prof)\n",
    "\n",
    "plt.figure(figsize=(10,5))\n",
    "plt.title(\"Profit by Month in a year\")\n",
    "plt.plot(months, prof, 'yellow')\n",
    "plt.xticks(months)\n",
    "plt.xlabel(\"Months\")\n",
    "plt.xlim([1,12])\n",
    "plt.ylabel(\"Profit\")\n"
   ]
  },
  {
   "cell_type": "code",
   "execution_count": 136,
   "id": "55d39b72",
   "metadata": {},
   "outputs": [
    {
     "data": {
      "text/plain": [
       "Text(0.5, 1.0, 'D')"
      ]
     },
     "execution_count": 136,
     "metadata": {},
     "output_type": "execute_result"
    },
    {
     "data": {
      "image/png": "[encoded data removed]",
      "text/plain": [
       "<Figure size 432x288 with 4 Axes>"
      ]
     },
     "metadata": {
      "needs_background": "light"
     },
     "output_type": "display_data"
    }
   ],
   "source": [
    "# Bai 27\n",
    "months = np.array([1,2,3,4,5,6,7,8,9,10,11,12])\n",
    "profA = np.random.randint(100000,1000000, size=(12))\n",
    "profB = np.random.randint(100000,1000000, size=(12))\n",
    "\n",
    "# a\n",
    "plt.title(\"Profits of A%B by Month in a year\")\n",
    "plt.plot(months, profA, '-o', label='A')\n",
    "plt.plot(months, profB, '-o', label='B')\n",
    "plt.xlabel(\"Months\")\n",
    "plt.xticks(months)\n",
    "plt.ylabel(\"Profit\")\n",
    "plt.legend()"
   ]
  },
  {
   "cell_type": "code",
   "execution_count": 162,
   "id": "65d42277",
   "metadata": {},
   "outputs": [
    {
     "data": {
      "text/plain": [
       "Text(0.5, 0.98, \"A,B,C,D's profits by month in a year\")"
      ]
     },
     "execution_count": 162,
     "metadata": {},
     "output_type": "execute_result"
    },
    {
     "data": {
      "image/png": "[encoded data removed]",
      "text/plain": [
       "<Figure size 720x432 with 4 Axes>"
      ]
     },
     "metadata": {
      "needs_background": "light"
     },
     "output_type": "display_data"
    }
   ],
   "source": [
    "months = np.array([1,2,3,4,5,6,7,8,9,10,11,12])\n",
    "profA = np.random.randint(100000,1000000, size=(12))\n",
    "profB = np.random.randint(100000,1000000, size=(12))\n",
    "profC = np.random.randint(100000,1000000, size=(12))\n",
    "profD = np.random.randint(100000,1000000, size=(12))\n",
    "\n",
    "fig, ((ax1, ax2), (ax3, ax4)) = plt.subplots(nrows=2, ncols=2, figsize=(10,6))\n",
    "# b\n",
    "ax1.plot(months, profA)\n",
    "ax1.set_title(\"A\")\n",
    "ax1.set_xticks(months)\n",
    "\n",
    "ax2.plot(months, profB)\n",
    "ax2.set_title(\"B\")\n",
    "ax2.set_xticks(months)\n",
    "\n",
    "ax3.plot(months, profC)\n",
    "ax3.set_title(\"C\")\n",
    "ax3.set_xticks(months)\n",
    "\n",
    "ax4.plot(months, profA)\n",
    "ax4.set_title(\"D\")\n",
    "ax4.set_xticks(months)\n",
    "\n",
    "plt.suptitle(\"A,B,C,D's profits by month in a year\")"
   ]
  },
  {
   "cell_type": "code",
   "execution_count": 42,
   "id": "a187222f",
   "metadata": {},
   "outputs": [
    {
     "data": {
      "text/plain": [
       "Text(0.5, 0.98, \"A,B,C,D's profits by month in a year\")"
      ]
     },
     "execution_count": 42,
     "metadata": {},
     "output_type": "execute_result"
    },
    {
     "data": {
      "image/png": "[encoded data removed]",
      "text/plain": [
       "<Figure size 936x432 with 4 Axes>"
      ]
     },
     "metadata": {
      "needs_background": "light"
     },
     "output_type": "display_data"
    }
   ],
   "source": [
    "# Bai 28\n",
    "months = np.array([1,2,3,4,5,6,7,8,9,10,11,12])\n",
    "profA = np.random.randint(100000,1000000, size=(12))\n",
    "profB = np.random.randint(100000,1000000, size=(12))\n",
    "profC = np.random.randint(100000,1000000, size=(12))\n",
    "profD = np.random.randint(100000,1000000, size=(12))\n",
    "\n",
    "fig, ((ax1, ax2), (ax3, ax4)) = plt.subplots(nrows=2, ncols=2, figsize=(13,6))\n",
    "# b\n",
    "ax1.plot(months, profA, '-o')\n",
    "ax1.set_title(\"A\")\n",
    "ax1.set_xticks(months)\n",
    "\n",
    "ax2.plot(months, profB, 'ro')\n",
    "ax2.set_title(\"B\")\n",
    "ax2.set_xticks(months)\n",
    "\n",
    "ax3.plot(months, profC, '+')\n",
    "ax3.set_title(\"C\")\n",
    "ax3.set_xticks(months)\n",
    "\n",
    "ax4.plot(months, profA, 'b-')\n",
    "ax4.set_title(\"D\")\n",
    "ax4.set_xticks(months)\n",
    "\n",
    "plt.suptitle(\"A,B,C,D's profits by month in a year\")"
   ]
  },
  {
   "cell_type": "code",
   "execution_count": 27,
   "id": "5c6cdcca",
   "metadata": {},
   "outputs": [
    {
     "name": "stdout",
     "output_type": "stream",
     "text": [
      "[15, 75, 55, 25] [10, 50, 40, 30]\n"
     ]
    },
    {
     "data": {
      "text/plain": [
       "Text(0, 0.5, 'Number')"
      ]
     },
     "execution_count": 27,
     "metadata": {},
     "output_type": "execute_result"
    },
    {
     "data": {
      "image/png": "[encoded data removed]",
      "text/plain": [
       "<Figure size 432x288 with 1 Axes>"
      ]
     },
     "metadata": {
      "needs_background": "light"
     },
     "output_type": "display_data"
    }
   ],
   "source": [
    "# Bai 29 a\n",
    "import matplotlib.pyplot as plt\n",
    "import numpy as np\n",
    "\n",
    "_dict = {'10-20':[10, 15], '20-30':[50, 75], '30-40':[40, 55], '40-50':[30, 25]}\n",
    "\n",
    "X = np.arange(4)\n",
    "\n",
    "ages = list(dict.keys())\n",
    "mal_data = [_dict[i][0] for i in dict]\n",
    "fe_data = [_dict[i][1] for i in dict]\n",
    "print(fe_data, mal_data)\n",
    "fig = plt.figure()\n",
    "ax = fig.add_axes([0,0,1,1])\n",
    "ax.bar(X + 0.00, mal_data, color='b', width = 0.25, label='male')\n",
    "ax.bar(X + 0.25, fe_data, color='g', width = 0.25, label='female')\n",
    "ax.legend()\n",
    "ax.set_title(\"The number of riding bicyle by ages and gender\")\n",
    "ax.set_xlabel(\"Ages\")\n",
    "ax.set_xticks(X, ages)\n",
    "ax.set_ylabel(\"Number\")"
   ]
  },
  {
   "cell_type": "code",
   "execution_count": 28,
   "id": "b0bc7cc0",
   "metadata": {},
   "outputs": [
    {
     "name": "stdout",
     "output_type": "stream",
     "text": [
      "[15, 75, 55, 25] [10, 50, 40, 30]\n"
     ]
    },
    {
     "data": {
      "text/plain": [
       "Text(0, 0.5, 'Number')"
      ]
     },
     "execution_count": 28,
     "metadata": {},
     "output_type": "execute_result"
    },
    {
     "data": {
      "image/png": "[encoded data removed]",
      "text/plain": [
       "<Figure size 432x288 with 1 Axes>"
      ]
     },
     "metadata": {
      "needs_background": "light"
     },
     "output_type": "display_data"
    }
   ],
   "source": [
    "# Bai 29 b\n",
    "import matplotlib.pyplot as plt\n",
    "import numpy as np\n",
    "\n",
    "_dict = {'10-20':[10, 15], '20-30':[50, 75], '30-40':[40, 55], '40-50':[30, 25]}\n",
    "\n",
    "X = np.arange(4)\n",
    "\n",
    "ages = list(dict.keys())\n",
    "mal_data = [_dict[i][0] for i in dict]\n",
    "fe_data = [_dict[i][1] for i in dict]\n",
    "print(fe_data, mal_data)\n",
    "fig = plt.figure()\n",
    "ax = fig.add_axes([0,0,1,1])\n",
    "ax.bar(X, mal_data, color='b', width = 0.25, label='male')\n",
    "ax.bar(X, fe_data, color='g', width = 0.25, bottom = mal_data, label='female')\n",
    "ax.legend()\n",
    "ax.set_title(\"The number of riding bicyle by ages and gender\")\n",
    "ax.set_xlabel(\"Ages\")\n",
    "ax.set_xticks(X, ages)\n",
    "ax.set_ylabel(\"Number\")"
   ]
  },
  {
   "cell_type": "code",
   "execution_count": 34,
   "id": "f0fdf8ed",
   "metadata": {},
   "outputs": [
    {
     "data": {
      "text/plain": [
       "Text(0.5, 1.0, 'The rate of using transports')"
      ]
     },
     "execution_count": 34,
     "metadata": {},
     "output_type": "execute_result"
    },
    {
     "data": {
      "image/png": "[encoded data removed]",
      "text/plain": [
       "<Figure size 432x288 with 1 Axes>"
      ]
     },
     "metadata": {},
     "output_type": "display_data"
    }
   ],
   "source": [
    "# Bai 30\n",
    "transport = {'car': 0.2, 'bus': 0.5, 'bike': 0.2, 'motorbike': 0.1}\n",
    "plt.pie(transport.values(), labels=transport.keys())\n",
    "plt.title(\"The rate of using transports\")"
   ]
  },
  {
   "cell_type": "code",
   "execution_count": 20,
   "id": "65aa57a7",
   "metadata": {},
   "outputs": [
    {
     "name": "stdout",
     "output_type": "stream",
     "text": [
      "[ 6  3  7 10 10  5  3 10  7  5  3  4  7  4  8  2  2  6  4  8 10  7  2  8\n",
      " 10  3  3  9  2  5  5  4  4  8  4  8  2  2  9  9  1  3  9  6  1  9  9  9\n",
      "  2  8  5  4  4  9  1  7  9  1  5  9  9  7  9  1  8  5  5  4  7  4  5  8\n",
      "  1  1  8  3 10  2  8  2  7  7  5  2  7  2  1 10  2  7  5 10  7  4  9  1\n",
      "  4  3  4  9  8  7  9  7  1 10  1  2  1  1  4 10  3  8  7  3  1  3  8  8\n",
      "  9  1 10  4  4  2  6  6  1  1  1 10  1  9  8  4  9  3  2  9  6  4  8  8\n",
      "  5 10  7  9  3  3  2  6  9  7  5 10  7  2  2  8  8  9  1  6  3  4  2  6\n",
      "  6  5  6  6  7  1  5  4  4  9  3  7  4  7  1  4  8  8  2  9  9  5  1  3\n",
      "  5  5  2 10  9  7 10  3]\n"
     ]
    },
    {
     "data": {
      "text/plain": [
       "([<matplotlib.axis.XTick at 0x1c403f310d0>,\n",
       "  <matplotlib.axis.XTick at 0x1c403f310a0>,\n",
       "  <matplotlib.axis.XTick at 0x1c403f2c790>,\n",
       "  <matplotlib.axis.XTick at 0x1c404f3ae20>,\n",
       "  <matplotlib.axis.XTick at 0x1c404f455b0>,\n",
       "  <matplotlib.axis.XTick at 0x1c404f45d00>,\n",
       "  <matplotlib.axis.XTick at 0x1c404f49490>,\n",
       "  <matplotlib.axis.XTick at 0x1c404f49be0>,\n",
       "  <matplotlib.axis.XTick at 0x1c404f51370>,\n",
       "  <matplotlib.axis.XTick at 0x1c404f49eb0>,\n",
       "  <matplotlib.axis.XTick at 0x1c404f45dc0>],\n",
       " [Text(0, 0, ''),\n",
       "  Text(0, 0, ''),\n",
       "  Text(0, 0, ''),\n",
       "  Text(0, 0, ''),\n",
       "  Text(0, 0, ''),\n",
       "  Text(0, 0, ''),\n",
       "  Text(0, 0, ''),\n",
       "  Text(0, 0, ''),\n",
       "  Text(0, 0, ''),\n",
       "  Text(0, 0, ''),\n",
       "  Text(0, 0, '')])"
      ]
     },
     "execution_count": 20,
     "metadata": {},
     "output_type": "execute_result"
    },
    {
     "data": {
      "image/png": "[encoded data removed]",
      "text/plain": [
       "<Figure size 432x288 with 1 Axes>"
      ]
     },
     "metadata": {
      "needs_background": "light"
     },
     "output_type": "display_data"
    }
   ],
   "source": [
    "# Bai 31\n",
    "import numpy as np\n",
    "import matplotlib.pyplot as plt\n",
    "scores = np.random.randint(1,11,size=200)\n",
    "print(scores)\n",
    "plt.hist(scores, bins=10)\n",
    "plt.xticks(np.arange(11))"
   ]
  },
  {
   "cell_type": "code",
   "execution_count": 26,
   "id": "03a42a19",
   "metadata": {},
   "outputs": [
    {
     "name": "stdout",
     "output_type": "stream",
     "text": [
      "[ 7  2 10  3  4  2  6  2  6  2  5  2  6  8  5  1  1  8  9  1  2  9  8  7\n",
      "  5  9  6  3 10  1  8  7  4  2  2  8  5  5  4  9 10  3  2  2  6  4  2  3\n",
      "  2  1  1 10  8  3 10  7  3  9  2  9  6  6  3  8  6  6  4 10  8  9  2  7\n",
      "  1 10  9  2  3 10  4  4  9  9  7  7  6  7  9 10  9  4  9  5  9  8  1  6\n",
      "  9  8  2  8  7  7  9  3  7  1  7  8  9  5  8  1  4  4  3  3  8  5  2  9\n",
      "  9  1  5  9  1  9 10  8 10  6  4  5  1  9  9  5  4  1  2  3  4  1  8  5\n",
      "  8  8  9  4  9  4  5  6  2  9  4  5  5  8  9  5  3  1  5  2  6  3  7  3\n",
      "  5  7  8  2 10  7  5  1  4  7  3  2  7  6  8 10  1 10  3  5  8  2  5  1\n",
      "  9  6  2  9  1  9  4  9]\n"
     ]
    },
    {
     "data": {
      "text/plain": [
       "{'whiskers': [<matplotlib.lines.Line2D at 0x1c400054520>,\n",
       "  <matplotlib.lines.Line2D at 0x1c4035df5e0>],\n",
       " 'caps': [<matplotlib.lines.Line2D at 0x1c4035df8b0>,\n",
       "  <matplotlib.lines.Line2D at 0x1c4000882e0>],\n",
       " 'boxes': [<matplotlib.lines.Line2D at 0x1c400054c10>],\n",
       " 'medians': [<matplotlib.lines.Line2D at 0x1c400088d90>],\n",
       " 'fliers': [<matplotlib.lines.Line2D at 0x1c4000887c0>],\n",
       " 'means': []}"
      ]
     },
     "execution_count": 26,
     "metadata": {},
     "output_type": "execute_result"
    },
    {
     "data": {
      "image/png": "[encoded data removed]",
      "text/plain": [
       "<Figure size 432x288 with 1 Axes>"
      ]
     },
     "metadata": {
      "needs_background": "light"
     },
     "output_type": "display_data"
    }
   ],
   "source": [
    "# Bai 32\n",
    "import numpy as np\n",
    "import matplotlib.pyplot as plt\n",
    "scores = np.random.randint(1,11,size=200)\n",
    "print(scores)\n",
    "plt.boxplot(scores)"
   ]
  },
  {
   "cell_type": "code",
   "execution_count": 14,
   "id": "cd739584",
   "metadata": {
    "scrolled": true
   },
   "outputs": [
    {
     "name": "stdout",
     "output_type": "stream",
     "text": [
      "Columns=14, Rows=506\n"
     ]
    }
   ],
   "source": [
    "# Bai 33\n",
    "import pandas as pd\n",
    "\n",
    "df = pd.read_csv(\"housing.data\", sep='\\s+', header=None)\n",
    "df.columns = ['CRIM', 'ZN', 'INDUS', 'CHAS', 'NOX', 'RM', 'AGE', 'DIS', 'RAD', 'TAX', 'PTRATIO', 'B', 'LSTAT', 'MEDV']\n",
    "\n",
    "print(f\"Columns={len(df.columns)}, Rows={len(df.index)}\")"
   ]
  },
  {
   "cell_type": "code",
   "execution_count": 15,
   "id": "5d0e92a4",
   "metadata": {},
   "outputs": [
    {
     "data": {
      "text/html": [
       "<div>\n",
       "<style scoped>\n",
       "    .dataframe tbody tr th:only-of-type {\n",
       "        vertical-align: middle;\n",
       "    }\n",
       "\n",
       "    .dataframe tbody tr th {\n",
       "        vertical-align: top;\n",
       "    }\n",
       "\n",
       "    .dataframe thead th {\n",
       "        text-align: right;\n",
       "    }\n",
       "</style>\n",
       "<table border=\"1\" class=\"dataframe\">\n",
       "  <thead>\n",
       "    <tr style=\"text-align: right;\">\n",
       "      <th></th>\n",
       "      <th>CRIM</th>\n",
       "      <th>ZN</th>\n",
       "      <th>INDUS</th>\n",
       "      <th>CHAS</th>\n",
       "      <th>NOX</th>\n",
       "      <th>RM</th>\n",
       "      <th>AGE</th>\n",
       "      <th>DIS</th>\n",
       "      <th>RAD</th>\n",
       "      <th>TAX</th>\n",
       "      <th>PTRATIO</th>\n",
       "      <th>B</th>\n",
       "      <th>LSTAT</th>\n",
       "      <th>MEDV</th>\n",
       "    </tr>\n",
       "  </thead>\n",
       "  <tbody>\n",
       "    <tr>\n",
       "      <th>count</th>\n",
       "      <td>506.000000</td>\n",
       "      <td>506.000000</td>\n",
       "      <td>506.000000</td>\n",
       "      <td>506.000000</td>\n",
       "      <td>506.000000</td>\n",
       "      <td>506.000000</td>\n",
       "      <td>506.000000</td>\n",
       "      <td>506.000000</td>\n",
       "      <td>506.000000</td>\n",
       "      <td>506.000000</td>\n",
       "      <td>506.000000</td>\n",
       "      <td>506.000000</td>\n",
       "      <td>506.000000</td>\n",
       "      <td>506.000000</td>\n",
       "    </tr>\n",
       "    <tr>\n",
       "      <th>mean</th>\n",
       "      <td>3.613524</td>\n",
       "      <td>11.363636</td>\n",
       "      <td>11.136779</td>\n",
       "      <td>0.069170</td>\n",
       "      <td>0.554695</td>\n",
       "      <td>6.284634</td>\n",
       "      <td>68.574901</td>\n",
       "      <td>3.795043</td>\n",
       "      <td>9.549407</td>\n",
       "      <td>408.237154</td>\n",
       "      <td>18.455534</td>\n",
       "      <td>356.674032</td>\n",
       "      <td>12.653063</td>\n",
       "      <td>22.532806</td>\n",
       "    </tr>\n",
       "    <tr>\n",
       "      <th>std</th>\n",
       "      <td>8.601545</td>\n",
       "      <td>23.322453</td>\n",
       "      <td>6.860353</td>\n",
       "      <td>0.253994</td>\n",
       "      <td>0.115878</td>\n",
       "      <td>0.702617</td>\n",
       "      <td>28.148861</td>\n",
       "      <td>2.105710</td>\n",
       "      <td>8.707259</td>\n",
       "      <td>168.537116</td>\n",
       "      <td>2.164946</td>\n",
       "      <td>91.294864</td>\n",
       "      <td>7.141062</td>\n",
       "      <td>9.197104</td>\n",
       "    </tr>\n",
       "    <tr>\n",
       "      <th>min</th>\n",
       "      <td>0.006320</td>\n",
       "      <td>0.000000</td>\n",
       "      <td>0.460000</td>\n",
       "      <td>0.000000</td>\n",
       "      <td>0.385000</td>\n",
       "      <td>3.561000</td>\n",
       "      <td>2.900000</td>\n",
       "      <td>1.129600</td>\n",
       "      <td>1.000000</td>\n",
       "      <td>187.000000</td>\n",
       "      <td>12.600000</td>\n",
       "      <td>0.320000</td>\n",
       "      <td>1.730000</td>\n",
       "      <td>5.000000</td>\n",
       "    </tr>\n",
       "    <tr>\n",
       "      <th>25%</th>\n",
       "      <td>0.082045</td>\n",
       "      <td>0.000000</td>\n",
       "      <td>5.190000</td>\n",
       "      <td>0.000000</td>\n",
       "      <td>0.449000</td>\n",
       "      <td>5.885500</td>\n",
       "      <td>45.025000</td>\n",
       "      <td>2.100175</td>\n",
       "      <td>4.000000</td>\n",
       "      <td>279.000000</td>\n",
       "      <td>17.400000</td>\n",
       "      <td>375.377500</td>\n",
       "      <td>6.950000</td>\n",
       "      <td>17.025000</td>\n",
       "    </tr>\n",
       "    <tr>\n",
       "      <th>50%</th>\n",
       "      <td>0.256510</td>\n",
       "      <td>0.000000</td>\n",
       "      <td>9.690000</td>\n",
       "      <td>0.000000</td>\n",
       "      <td>0.538000</td>\n",
       "      <td>6.208500</td>\n",
       "      <td>77.500000</td>\n",
       "      <td>3.207450</td>\n",
       "      <td>5.000000</td>\n",
       "      <td>330.000000</td>\n",
       "      <td>19.050000</td>\n",
       "      <td>391.440000</td>\n",
       "      <td>11.360000</td>\n",
       "      <td>21.200000</td>\n",
       "    </tr>\n",
       "    <tr>\n",
       "      <th>75%</th>\n",
       "      <td>3.677083</td>\n",
       "      <td>12.500000</td>\n",
       "      <td>18.100000</td>\n",
       "      <td>0.000000</td>\n",
       "      <td>0.624000</td>\n",
       "      <td>6.623500</td>\n",
       "      <td>94.075000</td>\n",
       "      <td>5.188425</td>\n",
       "      <td>24.000000</td>\n",
       "      <td>666.000000</td>\n",
       "      <td>20.200000</td>\n",
       "      <td>396.225000</td>\n",
       "      <td>16.955000</td>\n",
       "      <td>25.000000</td>\n",
       "    </tr>\n",
       "    <tr>\n",
       "      <th>max</th>\n",
       "      <td>88.976200</td>\n",
       "      <td>100.000000</td>\n",
       "      <td>27.740000</td>\n",
       "      <td>1.000000</td>\n",
       "      <td>0.871000</td>\n",
       "      <td>8.780000</td>\n",
       "      <td>100.000000</td>\n",
       "      <td>12.126500</td>\n",
       "      <td>24.000000</td>\n",
       "      <td>711.000000</td>\n",
       "      <td>22.000000</td>\n",
       "      <td>396.900000</td>\n",
       "      <td>37.970000</td>\n",
       "      <td>50.000000</td>\n",
       "    </tr>\n",
       "  </tbody>\n",
       "</table>\n",
       "</div>"
      ],
      "text/plain": [
       "             CRIM          ZN       INDUS        CHAS         NOX          RM  \\\n",
       "count  506.000000  506.000000  506.000000  506.000000  506.000000  506.000000   \n",
       "mean     3.613524   11.363636   11.136779    0.069170    0.554695    6.284634   \n",
       "std      8.601545   23.322453    6.860353    0.253994    0.115878    0.702617   \n",
       "min      0.006320    0.000000    0.460000    0.000000    0.385000    3.561000   \n",
       "25%      0.082045    0.000000    5.190000    0.000000    0.449000    5.885500   \n",
       "50%      0.256510    0.000000    9.690000    0.000000    0.538000    6.208500   \n",
       "75%      3.677083   12.500000   18.100000    0.000000    0.624000    6.623500   \n",
       "max     88.976200  100.000000   27.740000    1.000000    0.871000    8.780000   \n",
       "\n",
       "              AGE         DIS         RAD         TAX     PTRATIO           B  \\\n",
       "count  506.000000  506.000000  506.000000  506.000000  506.000000  506.000000   \n",
       "mean    68.574901    3.795043    9.549407  408.237154   18.455534  356.674032   \n",
       "std     28.148861    2.105710    8.707259  168.537116    2.164946   91.294864   \n",
       "min      2.900000    1.129600    1.000000  187.000000   12.600000    0.320000   \n",
       "25%     45.025000    2.100175    4.000000  279.000000   17.400000  375.377500   \n",
       "50%     77.500000    3.207450    5.000000  330.000000   19.050000  391.440000   \n",
       "75%     94.075000    5.188425   24.000000  666.000000   20.200000  396.225000   \n",
       "max    100.000000   12.126500   24.000000  711.000000   22.000000  396.900000   \n",
       "\n",
       "            LSTAT        MEDV  \n",
       "count  506.000000  506.000000  \n",
       "mean    12.653063   22.532806  \n",
       "std      7.141062    9.197104  \n",
       "min      1.730000    5.000000  \n",
       "25%      6.950000   17.025000  \n",
       "50%     11.360000   21.200000  \n",
       "75%     16.955000   25.000000  \n",
       "max     37.970000   50.000000  "
      ]
     },
     "execution_count": 15,
     "metadata": {},
     "output_type": "execute_result"
    }
   ],
   "source": [
    "df.describe()"
   ]
  },
  {
   "cell_type": "code",
   "execution_count": 19,
   "id": "6e37a848",
   "metadata": {},
   "outputs": [
    {
     "data": {
      "text/html": [
       "<div>\n",
       "<style scoped>\n",
       "    .dataframe tbody tr th:only-of-type {\n",
       "        vertical-align: middle;\n",
       "    }\n",
       "\n",
       "    .dataframe tbody tr th {\n",
       "        vertical-align: top;\n",
       "    }\n",
       "\n",
       "    .dataframe thead th {\n",
       "        text-align: right;\n",
       "    }\n",
       "</style>\n",
       "<table border=\"1\" class=\"dataframe\">\n",
       "  <thead>\n",
       "    <tr style=\"text-align: right;\">\n",
       "      <th></th>\n",
       "      <th>CRIM</th>\n",
       "      <th>ZN</th>\n",
       "      <th>INDUS</th>\n",
       "      <th>CHAS</th>\n",
       "      <th>NOX</th>\n",
       "      <th>RM</th>\n",
       "      <th>AGE</th>\n",
       "      <th>DIS</th>\n",
       "      <th>RAD</th>\n",
       "      <th>TAX</th>\n",
       "      <th>PTRATIO</th>\n",
       "      <th>B</th>\n",
       "      <th>LSTAT</th>\n",
       "      <th>MEDV</th>\n",
       "    </tr>\n",
       "  </thead>\n",
       "  <tbody>\n",
       "    <tr>\n",
       "      <th>0</th>\n",
       "      <td>NaN</td>\n",
       "      <td>NaN</td>\n",
       "      <td>NaN</td>\n",
       "      <td>NaN</td>\n",
       "      <td>NaN</td>\n",
       "      <td>NaN</td>\n",
       "      <td>NaN</td>\n",
       "      <td>NaN</td>\n",
       "      <td>NaN</td>\n",
       "      <td>NaN</td>\n",
       "      <td>NaN</td>\n",
       "      <td>NaN</td>\n",
       "      <td>NaN</td>\n",
       "      <td>NaN</td>\n",
       "    </tr>\n",
       "    <tr>\n",
       "      <th>1</th>\n",
       "      <td>NaN</td>\n",
       "      <td>NaN</td>\n",
       "      <td>NaN</td>\n",
       "      <td>NaN</td>\n",
       "      <td>NaN</td>\n",
       "      <td>NaN</td>\n",
       "      <td>NaN</td>\n",
       "      <td>NaN</td>\n",
       "      <td>NaN</td>\n",
       "      <td>NaN</td>\n",
       "      <td>NaN</td>\n",
       "      <td>NaN</td>\n",
       "      <td>NaN</td>\n",
       "      <td>NaN</td>\n",
       "    </tr>\n",
       "    <tr>\n",
       "      <th>2</th>\n",
       "      <td>NaN</td>\n",
       "      <td>NaN</td>\n",
       "      <td>NaN</td>\n",
       "      <td>NaN</td>\n",
       "      <td>NaN</td>\n",
       "      <td>NaN</td>\n",
       "      <td>NaN</td>\n",
       "      <td>NaN</td>\n",
       "      <td>NaN</td>\n",
       "      <td>NaN</td>\n",
       "      <td>NaN</td>\n",
       "      <td>NaN</td>\n",
       "      <td>NaN</td>\n",
       "      <td>NaN</td>\n",
       "    </tr>\n",
       "    <tr>\n",
       "      <th>3</th>\n",
       "      <td>NaN</td>\n",
       "      <td>NaN</td>\n",
       "      <td>NaN</td>\n",
       "      <td>NaN</td>\n",
       "      <td>NaN</td>\n",
       "      <td>NaN</td>\n",
       "      <td>NaN</td>\n",
       "      <td>NaN</td>\n",
       "      <td>NaN</td>\n",
       "      <td>NaN</td>\n",
       "      <td>NaN</td>\n",
       "      <td>NaN</td>\n",
       "      <td>NaN</td>\n",
       "      <td>NaN</td>\n",
       "    </tr>\n",
       "    <tr>\n",
       "      <th>4</th>\n",
       "      <td>NaN</td>\n",
       "      <td>NaN</td>\n",
       "      <td>NaN</td>\n",
       "      <td>NaN</td>\n",
       "      <td>NaN</td>\n",
       "      <td>NaN</td>\n",
       "      <td>NaN</td>\n",
       "      <td>NaN</td>\n",
       "      <td>NaN</td>\n",
       "      <td>NaN</td>\n",
       "      <td>NaN</td>\n",
       "      <td>NaN</td>\n",
       "      <td>NaN</td>\n",
       "      <td>NaN</td>\n",
       "    </tr>\n",
       "    <tr>\n",
       "      <th>...</th>\n",
       "      <td>...</td>\n",
       "      <td>...</td>\n",
       "      <td>...</td>\n",
       "      <td>...</td>\n",
       "      <td>...</td>\n",
       "      <td>...</td>\n",
       "      <td>...</td>\n",
       "      <td>...</td>\n",
       "      <td>...</td>\n",
       "      <td>...</td>\n",
       "      <td>...</td>\n",
       "      <td>...</td>\n",
       "      <td>...</td>\n",
       "      <td>...</td>\n",
       "    </tr>\n",
       "    <tr>\n",
       "      <th>501</th>\n",
       "      <td>NaN</td>\n",
       "      <td>NaN</td>\n",
       "      <td>NaN</td>\n",
       "      <td>NaN</td>\n",
       "      <td>NaN</td>\n",
       "      <td>NaN</td>\n",
       "      <td>NaN</td>\n",
       "      <td>NaN</td>\n",
       "      <td>NaN</td>\n",
       "      <td>NaN</td>\n",
       "      <td>NaN</td>\n",
       "      <td>NaN</td>\n",
       "      <td>NaN</td>\n",
       "      <td>NaN</td>\n",
       "    </tr>\n",
       "    <tr>\n",
       "      <th>502</th>\n",
       "      <td>NaN</td>\n",
       "      <td>NaN</td>\n",
       "      <td>NaN</td>\n",
       "      <td>NaN</td>\n",
       "      <td>NaN</td>\n",
       "      <td>NaN</td>\n",
       "      <td>NaN</td>\n",
       "      <td>NaN</td>\n",
       "      <td>NaN</td>\n",
       "      <td>NaN</td>\n",
       "      <td>NaN</td>\n",
       "      <td>NaN</td>\n",
       "      <td>NaN</td>\n",
       "      <td>NaN</td>\n",
       "    </tr>\n",
       "    <tr>\n",
       "      <th>503</th>\n",
       "      <td>NaN</td>\n",
       "      <td>NaN</td>\n",
       "      <td>NaN</td>\n",
       "      <td>NaN</td>\n",
       "      <td>NaN</td>\n",
       "      <td>NaN</td>\n",
       "      <td>NaN</td>\n",
       "      <td>NaN</td>\n",
       "      <td>NaN</td>\n",
       "      <td>NaN</td>\n",
       "      <td>NaN</td>\n",
       "      <td>NaN</td>\n",
       "      <td>NaN</td>\n",
       "      <td>NaN</td>\n",
       "    </tr>\n",
       "    <tr>\n",
       "      <th>504</th>\n",
       "      <td>NaN</td>\n",
       "      <td>NaN</td>\n",
       "      <td>NaN</td>\n",
       "      <td>NaN</td>\n",
       "      <td>NaN</td>\n",
       "      <td>NaN</td>\n",
       "      <td>NaN</td>\n",
       "      <td>NaN</td>\n",
       "      <td>NaN</td>\n",
       "      <td>NaN</td>\n",
       "      <td>NaN</td>\n",
       "      <td>NaN</td>\n",
       "      <td>NaN</td>\n",
       "      <td>NaN</td>\n",
       "    </tr>\n",
       "    <tr>\n",
       "      <th>505</th>\n",
       "      <td>NaN</td>\n",
       "      <td>NaN</td>\n",
       "      <td>NaN</td>\n",
       "      <td>NaN</td>\n",
       "      <td>NaN</td>\n",
       "      <td>NaN</td>\n",
       "      <td>NaN</td>\n",
       "      <td>NaN</td>\n",
       "      <td>NaN</td>\n",
       "      <td>NaN</td>\n",
       "      <td>NaN</td>\n",
       "      <td>NaN</td>\n",
       "      <td>NaN</td>\n",
       "      <td>NaN</td>\n",
       "    </tr>\n",
       "  </tbody>\n",
       "</table>\n",
       "<p>506 rows × 14 columns</p>\n",
       "</div>"
      ],
      "text/plain": [
       "     CRIM  ZN  INDUS  CHAS  NOX  RM  AGE  DIS  RAD  TAX  PTRATIO   B  LSTAT  \\\n",
       "0     NaN NaN    NaN   NaN  NaN NaN  NaN  NaN  NaN  NaN      NaN NaN    NaN   \n",
       "1     NaN NaN    NaN   NaN  NaN NaN  NaN  NaN  NaN  NaN      NaN NaN    NaN   \n",
       "2     NaN NaN    NaN   NaN  NaN NaN  NaN  NaN  NaN  NaN      NaN NaN    NaN   \n",
       "3     NaN NaN    NaN   NaN  NaN NaN  NaN  NaN  NaN  NaN      NaN NaN    NaN   \n",
       "4     NaN NaN    NaN   NaN  NaN NaN  NaN  NaN  NaN  NaN      NaN NaN    NaN   \n",
       "..    ...  ..    ...   ...  ...  ..  ...  ...  ...  ...      ...  ..    ...   \n",
       "501   NaN NaN    NaN   NaN  NaN NaN  NaN  NaN  NaN  NaN      NaN NaN    NaN   \n",
       "502   NaN NaN    NaN   NaN  NaN NaN  NaN  NaN  NaN  NaN      NaN NaN    NaN   \n",
       "503   NaN NaN    NaN   NaN  NaN NaN  NaN  NaN  NaN  NaN      NaN NaN    NaN   \n",
       "504   NaN NaN    NaN   NaN  NaN NaN  NaN  NaN  NaN  NaN      NaN NaN    NaN   \n",
       "505   NaN NaN    NaN   NaN  NaN NaN  NaN  NaN  NaN  NaN      NaN NaN    NaN   \n",
       "\n",
       "     MEDV  \n",
       "0     NaN  \n",
       "1     NaN  \n",
       "2     NaN  \n",
       "3     NaN  \n",
       "4     NaN  \n",
       "..    ...  \n",
       "501   NaN  \n",
       "502   NaN  \n",
       "503   NaN  \n",
       "504   NaN  \n",
       "505   NaN  \n",
       "\n",
       "[506 rows x 14 columns]"
      ]
     },
     "execution_count": 19,
     "metadata": {},
     "output_type": "execute_result"
    }
   ],
   "source": [
    "df[df==np.nan]"
   ]
  },
  {
   "cell_type": "code",
   "execution_count": 20,
   "id": "fe57a9f2",
   "metadata": {},
   "outputs": [
    {
     "data": {
      "text/html": [
       "<div>\n",
       "<style scoped>\n",
       "    .dataframe tbody tr th:only-of-type {\n",
       "        vertical-align: middle;\n",
       "    }\n",
       "\n",
       "    .dataframe tbody tr th {\n",
       "        vertical-align: top;\n",
       "    }\n",
       "\n",
       "    .dataframe thead th {\n",
       "        text-align: right;\n",
       "    }\n",
       "</style>\n",
       "<table border=\"1\" class=\"dataframe\">\n",
       "  <thead>\n",
       "    <tr style=\"text-align: right;\">\n",
       "      <th></th>\n",
       "      <th>CRIM</th>\n",
       "      <th>ZN</th>\n",
       "      <th>INDUS</th>\n",
       "      <th>CHAS</th>\n",
       "      <th>NOX</th>\n",
       "      <th>RM</th>\n",
       "      <th>AGE</th>\n",
       "      <th>DIS</th>\n",
       "      <th>RAD</th>\n",
       "      <th>TAX</th>\n",
       "      <th>PTRATIO</th>\n",
       "      <th>B</th>\n",
       "      <th>LSTAT</th>\n",
       "      <th>MEDV</th>\n",
       "    </tr>\n",
       "  </thead>\n",
       "  <tbody>\n",
       "    <tr>\n",
       "      <th>CRIM</th>\n",
       "      <td>1.000000</td>\n",
       "      <td>-0.200469</td>\n",
       "      <td>0.406583</td>\n",
       "      <td>-0.055892</td>\n",
       "      <td>0.420972</td>\n",
       "      <td>-0.219247</td>\n",
       "      <td>0.352734</td>\n",
       "      <td>-0.379670</td>\n",
       "      <td>0.625505</td>\n",
       "      <td>0.582764</td>\n",
       "      <td>0.289946</td>\n",
       "      <td>-0.385064</td>\n",
       "      <td>0.455621</td>\n",
       "      <td>-0.388305</td>\n",
       "    </tr>\n",
       "    <tr>\n",
       "      <th>ZN</th>\n",
       "      <td>-0.200469</td>\n",
       "      <td>1.000000</td>\n",
       "      <td>-0.533828</td>\n",
       "      <td>-0.042697</td>\n",
       "      <td>-0.516604</td>\n",
       "      <td>0.311991</td>\n",
       "      <td>-0.569537</td>\n",
       "      <td>0.664408</td>\n",
       "      <td>-0.311948</td>\n",
       "      <td>-0.314563</td>\n",
       "      <td>-0.391679</td>\n",
       "      <td>0.175520</td>\n",
       "      <td>-0.412995</td>\n",
       "      <td>0.360445</td>\n",
       "    </tr>\n",
       "    <tr>\n",
       "      <th>INDUS</th>\n",
       "      <td>0.406583</td>\n",
       "      <td>-0.533828</td>\n",
       "      <td>1.000000</td>\n",
       "      <td>0.062938</td>\n",
       "      <td>0.763651</td>\n",
       "      <td>-0.391676</td>\n",
       "      <td>0.644779</td>\n",
       "      <td>-0.708027</td>\n",
       "      <td>0.595129</td>\n",
       "      <td>0.720760</td>\n",
       "      <td>0.383248</td>\n",
       "      <td>-0.356977</td>\n",
       "      <td>0.603800</td>\n",
       "      <td>-0.483725</td>\n",
       "    </tr>\n",
       "    <tr>\n",
       "      <th>CHAS</th>\n",
       "      <td>-0.055892</td>\n",
       "      <td>-0.042697</td>\n",
       "      <td>0.062938</td>\n",
       "      <td>1.000000</td>\n",
       "      <td>0.091203</td>\n",
       "      <td>0.091251</td>\n",
       "      <td>0.086518</td>\n",
       "      <td>-0.099176</td>\n",
       "      <td>-0.007368</td>\n",
       "      <td>-0.035587</td>\n",
       "      <td>-0.121515</td>\n",
       "      <td>0.048788</td>\n",
       "      <td>-0.053929</td>\n",
       "      <td>0.175260</td>\n",
       "    </tr>\n",
       "    <tr>\n",
       "      <th>NOX</th>\n",
       "      <td>0.420972</td>\n",
       "      <td>-0.516604</td>\n",
       "      <td>0.763651</td>\n",
       "      <td>0.091203</td>\n",
       "      <td>1.000000</td>\n",
       "      <td>-0.302188</td>\n",
       "      <td>0.731470</td>\n",
       "      <td>-0.769230</td>\n",
       "      <td>0.611441</td>\n",
       "      <td>0.668023</td>\n",
       "      <td>0.188933</td>\n",
       "      <td>-0.380051</td>\n",
       "      <td>0.590879</td>\n",
       "      <td>-0.427321</td>\n",
       "    </tr>\n",
       "    <tr>\n",
       "      <th>RM</th>\n",
       "      <td>-0.219247</td>\n",
       "      <td>0.311991</td>\n",
       "      <td>-0.391676</td>\n",
       "      <td>0.091251</td>\n",
       "      <td>-0.302188</td>\n",
       "      <td>1.000000</td>\n",
       "      <td>-0.240265</td>\n",
       "      <td>0.205246</td>\n",
       "      <td>-0.209847</td>\n",
       "      <td>-0.292048</td>\n",
       "      <td>-0.355501</td>\n",
       "      <td>0.128069</td>\n",
       "      <td>-0.613808</td>\n",
       "      <td>0.695360</td>\n",
       "    </tr>\n",
       "    <tr>\n",
       "      <th>AGE</th>\n",
       "      <td>0.352734</td>\n",
       "      <td>-0.569537</td>\n",
       "      <td>0.644779</td>\n",
       "      <td>0.086518</td>\n",
       "      <td>0.731470</td>\n",
       "      <td>-0.240265</td>\n",
       "      <td>1.000000</td>\n",
       "      <td>-0.747881</td>\n",
       "      <td>0.456022</td>\n",
       "      <td>0.506456</td>\n",
       "      <td>0.261515</td>\n",
       "      <td>-0.273534</td>\n",
       "      <td>0.602339</td>\n",
       "      <td>-0.376955</td>\n",
       "    </tr>\n",
       "    <tr>\n",
       "      <th>DIS</th>\n",
       "      <td>-0.379670</td>\n",
       "      <td>0.664408</td>\n",
       "      <td>-0.708027</td>\n",
       "      <td>-0.099176</td>\n",
       "      <td>-0.769230</td>\n",
       "      <td>0.205246</td>\n",
       "      <td>-0.747881</td>\n",
       "      <td>1.000000</td>\n",
       "      <td>-0.494588</td>\n",
       "      <td>-0.534432</td>\n",
       "      <td>-0.232471</td>\n",
       "      <td>0.291512</td>\n",
       "      <td>-0.496996</td>\n",
       "      <td>0.249929</td>\n",
       "    </tr>\n",
       "    <tr>\n",
       "      <th>RAD</th>\n",
       "      <td>0.625505</td>\n",
       "      <td>-0.311948</td>\n",
       "      <td>0.595129</td>\n",
       "      <td>-0.007368</td>\n",
       "      <td>0.611441</td>\n",
       "      <td>-0.209847</td>\n",
       "      <td>0.456022</td>\n",
       "      <td>-0.494588</td>\n",
       "      <td>1.000000</td>\n",
       "      <td>0.910228</td>\n",
       "      <td>0.464741</td>\n",
       "      <td>-0.444413</td>\n",
       "      <td>0.488676</td>\n",
       "      <td>-0.381626</td>\n",
       "    </tr>\n",
       "    <tr>\n",
       "      <th>TAX</th>\n",
       "      <td>0.582764</td>\n",
       "      <td>-0.314563</td>\n",
       "      <td>0.720760</td>\n",
       "      <td>-0.035587</td>\n",
       "      <td>0.668023</td>\n",
       "      <td>-0.292048</td>\n",
       "      <td>0.506456</td>\n",
       "      <td>-0.534432</td>\n",
       "      <td>0.910228</td>\n",
       "      <td>1.000000</td>\n",
       "      <td>0.460853</td>\n",
       "      <td>-0.441808</td>\n",
       "      <td>0.543993</td>\n",
       "      <td>-0.468536</td>\n",
       "    </tr>\n",
       "    <tr>\n",
       "      <th>PTRATIO</th>\n",
       "      <td>0.289946</td>\n",
       "      <td>-0.391679</td>\n",
       "      <td>0.383248</td>\n",
       "      <td>-0.121515</td>\n",
       "      <td>0.188933</td>\n",
       "      <td>-0.355501</td>\n",
       "      <td>0.261515</td>\n",
       "      <td>-0.232471</td>\n",
       "      <td>0.464741</td>\n",
       "      <td>0.460853</td>\n",
       "      <td>1.000000</td>\n",
       "      <td>-0.177383</td>\n",
       "      <td>0.374044</td>\n",
       "      <td>-0.507787</td>\n",
       "    </tr>\n",
       "    <tr>\n",
       "      <th>B</th>\n",
       "      <td>-0.385064</td>\n",
       "      <td>0.175520</td>\n",
       "      <td>-0.356977</td>\n",
       "      <td>0.048788</td>\n",
       "      <td>-0.380051</td>\n",
       "      <td>0.128069</td>\n",
       "      <td>-0.273534</td>\n",
       "      <td>0.291512</td>\n",
       "      <td>-0.444413</td>\n",
       "      <td>-0.441808</td>\n",
       "      <td>-0.177383</td>\n",
       "      <td>1.000000</td>\n",
       "      <td>-0.366087</td>\n",
       "      <td>0.333461</td>\n",
       "    </tr>\n",
       "    <tr>\n",
       "      <th>LSTAT</th>\n",
       "      <td>0.455621</td>\n",
       "      <td>-0.412995</td>\n",
       "      <td>0.603800</td>\n",
       "      <td>-0.053929</td>\n",
       "      <td>0.590879</td>\n",
       "      <td>-0.613808</td>\n",
       "      <td>0.602339</td>\n",
       "      <td>-0.496996</td>\n",
       "      <td>0.488676</td>\n",
       "      <td>0.543993</td>\n",
       "      <td>0.374044</td>\n",
       "      <td>-0.366087</td>\n",
       "      <td>1.000000</td>\n",
       "      <td>-0.737663</td>\n",
       "    </tr>\n",
       "    <tr>\n",
       "      <th>MEDV</th>\n",
       "      <td>-0.388305</td>\n",
       "      <td>0.360445</td>\n",
       "      <td>-0.483725</td>\n",
       "      <td>0.175260</td>\n",
       "      <td>-0.427321</td>\n",
       "      <td>0.695360</td>\n",
       "      <td>-0.376955</td>\n",
       "      <td>0.249929</td>\n",
       "      <td>-0.381626</td>\n",
       "      <td>-0.468536</td>\n",
       "      <td>-0.507787</td>\n",
       "      <td>0.333461</td>\n",
       "      <td>-0.737663</td>\n",
       "      <td>1.000000</td>\n",
       "    </tr>\n",
       "  </tbody>\n",
       "</table>\n",
       "</div>"
      ],
      "text/plain": [
       "             CRIM        ZN     INDUS      CHAS       NOX        RM       AGE  \\\n",
       "CRIM     1.000000 -0.200469  0.406583 -0.055892  0.420972 -0.219247  0.352734   \n",
       "ZN      -0.200469  1.000000 -0.533828 -0.042697 -0.516604  0.311991 -0.569537   \n",
       "INDUS    0.406583 -0.533828  1.000000  0.062938  0.763651 -0.391676  0.644779   \n",
       "CHAS    -0.055892 -0.042697  0.062938  1.000000  0.091203  0.091251  0.086518   \n",
       "NOX      0.420972 -0.516604  0.763651  0.091203  1.000000 -0.302188  0.731470   \n",
       "RM      -0.219247  0.311991 -0.391676  0.091251 -0.302188  1.000000 -0.240265   \n",
       "AGE      0.352734 -0.569537  0.644779  0.086518  0.731470 -0.240265  1.000000   \n",
       "DIS     -0.379670  0.664408 -0.708027 -0.099176 -0.769230  0.205246 -0.747881   \n",
       "RAD      0.625505 -0.311948  0.595129 -0.007368  0.611441 -0.209847  0.456022   \n",
       "TAX      0.582764 -0.314563  0.720760 -0.035587  0.668023 -0.292048  0.506456   \n",
       "PTRATIO  0.289946 -0.391679  0.383248 -0.121515  0.188933 -0.355501  0.261515   \n",
       "B       -0.385064  0.175520 -0.356977  0.048788 -0.380051  0.128069 -0.273534   \n",
       "LSTAT    0.455621 -0.412995  0.603800 -0.053929  0.590879 -0.613808  0.602339   \n",
       "MEDV    -0.388305  0.360445 -0.483725  0.175260 -0.427321  0.695360 -0.376955   \n",
       "\n",
       "              DIS       RAD       TAX   PTRATIO         B     LSTAT      MEDV  \n",
       "CRIM    -0.379670  0.625505  0.582764  0.289946 -0.385064  0.455621 -0.388305  \n",
       "ZN       0.664408 -0.311948 -0.314563 -0.391679  0.175520 -0.412995  0.360445  \n",
       "INDUS   -0.708027  0.595129  0.720760  0.383248 -0.356977  0.603800 -0.483725  \n",
       "CHAS    -0.099176 -0.007368 -0.035587 -0.121515  0.048788 -0.053929  0.175260  \n",
       "NOX     -0.769230  0.611441  0.668023  0.188933 -0.380051  0.590879 -0.427321  \n",
       "RM       0.205246 -0.209847 -0.292048 -0.355501  0.128069 -0.613808  0.695360  \n",
       "AGE     -0.747881  0.456022  0.506456  0.261515 -0.273534  0.602339 -0.376955  \n",
       "DIS      1.000000 -0.494588 -0.534432 -0.232471  0.291512 -0.496996  0.249929  \n",
       "RAD     -0.494588  1.000000  0.910228  0.464741 -0.444413  0.488676 -0.381626  \n",
       "TAX     -0.534432  0.910228  1.000000  0.460853 -0.441808  0.543993 -0.468536  \n",
       "PTRATIO -0.232471  0.464741  0.460853  1.000000 -0.177383  0.374044 -0.507787  \n",
       "B        0.291512 -0.444413 -0.441808 -0.177383  1.000000 -0.366087  0.333461  \n",
       "LSTAT   -0.496996  0.488676  0.543993  0.374044 -0.366087  1.000000 -0.737663  \n",
       "MEDV     0.249929 -0.381626 -0.468536 -0.507787  0.333461 -0.737663  1.000000  "
      ]
     },
     "execution_count": 20,
     "metadata": {},
     "output_type": "execute_result"
    }
   ],
   "source": [
    "df.corr()"
   ]
  }
 ],
 "metadata": {
  "kernelspec": {
   "display_name": "Python 3 (ipykernel)",
   "language": "python",
   "name": "python3"
  },
  "language_info": {
   "codemirror_mode": {
    "name": "ipython",
    "version": 3
   },
   "file_extension": ".py",
   "mimetype": "text/x-python",
   "name": "python",
   "nbconvert_exporter": "python",
   "pygments_lexer": "ipython3",
   "version": "3.9.12"
  }
 },
 "nbformat": 4,
 "nbformat_minor": 5
}
